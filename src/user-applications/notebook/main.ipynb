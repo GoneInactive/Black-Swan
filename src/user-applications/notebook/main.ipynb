{
 "cells": [
  {
   "cell_type": "code",
   "execution_count": 14,
   "metadata": {},
   "outputs": [],
   "source": [
    "import sys\n",
    "import os\n",
    "\n",
    "try:\n",
    "    current_dir = os.path.dirname(os.path.abspath(__file__))\n",
    "    clients_path = os.path.join(current_dir, \"../..\", \"src\", \"clients\")\n",
    "    sys.path.insert(0, os.path.abspath(clients_path))\n",
    "except NameError:\n",
    "    current_dir = os.getcwd()\n",
    "    base_path = os.path.abspath(os.path.join(current_dir, \"..\", \"..\", \"src\", \"clients\"))\n",
    "    sys.path.insert(0, base_path)\n",
    "except Exception as e:\n",
    "    print(e)\n",
    "\n",
    "from kraken_python_client import KrakenPythonClient\n",
    "\n",
    "client = KrakenPythonClient()"
   ]
  },
  {
   "cell_type": "markdown",
   "metadata": {},
   "source": [
    "Use this notebook as a way to test and interact with the api"
   ]
  },
  {
   "cell_type": "code",
   "execution_count": null,
   "metadata": {},
   "outputs": [],
   "source": []
  }
 ],
 "metadata": {
  "kernelspec": {
   "display_name": "venv",
   "language": "python",
   "name": "python3"
  },
  "language_info": {
   "codemirror_mode": {
    "name": "ipython",
    "version": 3
   },
   "file_extension": ".py",
   "mimetype": "text/x-python",
   "name": "python",
   "nbconvert_exporter": "python",
   "pygments_lexer": "ipython3",
   "version": "3.13.3"
  }
 },
 "nbformat": 4,
 "nbformat_minor": 2
}
